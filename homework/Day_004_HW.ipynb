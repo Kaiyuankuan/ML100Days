{
 "cells": [
  {
   "cell_type": "markdown",
   "metadata": {},
   "source": [
    "## 練習時間\n",
    "資料的操作有很多，接下來的馬拉松中我們會介紹常被使用到的操作，參加者不妨先自行想像一下，第一次看到資料，我們一般會想知道什麼訊息？\n",
    "\n",
    "#### Ex: 如何知道資料的 row 數以及 column 數、有什麼欄位、多少欄位、如何截取部分的資料等等\n",
    "\n",
    "有了對資料的好奇之後，我們又怎麼通過程式碼來達成我們的目的呢？\n",
    "\n",
    "#### 可參考該[基礎教材](https://bookdata.readthedocs.io/en/latest/base/01_pandas.html#DataFrame-%E5%85%A5%E9%97%A8)或自行 google"
   ]
  },
  {
   "cell_type": "markdown",
   "metadata": {},
   "source": [
    "# [作業目標]\n",
    "- 熟悉更多的 Python 資料操作"
   ]
  },
  {
   "cell_type": "markdown",
   "metadata": {},
   "source": [
    "# [作業重點]\n",
    "- 列出資料的大小 (In[4], Hint : shape)\n",
    "- 列出所有欄位 (In[5], 有多種寫法)\n",
    "- 擷取部分資料 (In[6], Hint : loc 或 iloc)"
   ]
  },
  {
   "cell_type": "code",
   "execution_count": 18,
   "metadata": {
    "collapsed": true
   },
   "outputs": [],
   "source": [
    "import os\n",
    "import numpy as np\n",
    "import pandas as pd"
   ]
  },
  {
   "cell_type": "code",
   "execution_count": 19,
   "metadata": {
    "collapsed": true
   },
   "outputs": [],
   "source": [
    "# 設定 data_path\n",
    "dir_data = './data/'"
   ]
  },
  {
   "cell_type": "code",
   "execution_count": 20,
   "metadata": {
    "collapsed": false
   },
   "outputs": [
    {
     "name": "stdout",
     "output_type": "stream",
     "text": [
      "Path of read in data: ./data/application_train.csv\n"
     ]
    }
   ],
   "source": [
    "f_app = os.path.join(dir_data, 'application_train.csv')\n",
    "print('Path of read in data: %s' % (f_app))\n",
    "app_train = pd.read_csv(f_app)"
   ]
  },
  {
   "cell_type": "markdown",
   "metadata": {},
   "source": [
    "### 如果沒有想法，可以先嘗試找出剛剛例子中提到的問題的答案\n",
    "#### 資料的 row 數以及 column 數"
   ]
  },
  {
   "cell_type": "code",
   "execution_count": 32,
   "metadata": {
    "collapsed": false
   },
   "outputs": [
    {
     "name": "stdout",
     "output_type": "stream",
     "text": [
      "total rows:  307511\n",
      "total columns:  122\n"
     ]
    }
   ],
   "source": [
    "df = pd.DataFrame(app_train)\n",
    "total_rows = len(df.index)\n",
    "total_columns = len(df.columns)\n",
    "print(\"total rows: \", total_rows)\n",
    "print(\"total columns: \", total_columns)"
   ]
  },
  {
   "cell_type": "markdown",
   "metadata": {},
   "source": [
    "#### 列出所有欄位"
   ]
  },
  {
   "cell_type": "code",
   "execution_count": 35,
   "metadata": {
    "collapsed": false
   },
   "outputs": [
    {
     "name": "stdout",
     "output_type": "stream",
     "text": [
      "Index(['SK_ID_CURR', 'TARGET', 'NAME_CONTRACT_TYPE', 'CODE_GENDER',\n",
      "       'FLAG_OWN_CAR', 'FLAG_OWN_REALTY', 'CNT_CHILDREN', 'AMT_INCOME_TOTAL',\n",
      "       'AMT_CREDIT', 'AMT_ANNUITY', 'AMT_GOODS_PRICE', 'NAME_TYPE_SUITE',\n",
      "       'NAME_INCOME_TYPE', 'NAME_EDUCATION_TYPE', 'NAME_FAMILY_STATUS',\n",
      "       'NAME_HOUSING_TYPE', 'REGION_POPULATION_RELATIVE', 'DAYS_BIRTH',\n",
      "       'DAYS_EMPLOYED', 'DAYS_REGISTRATION', 'DAYS_ID_PUBLISH', 'OWN_CAR_AGE',\n",
      "       'FLAG_MOBIL', 'FLAG_EMP_PHONE', 'FLAG_WORK_PHONE', 'FLAG_CONT_MOBILE',\n",
      "       'FLAG_PHONE', 'FLAG_EMAIL', 'OCCUPATION_TYPE', 'CNT_FAM_MEMBERS',\n",
      "       'REGION_RATING_CLIENT', 'REGION_RATING_CLIENT_W_CITY',\n",
      "       'WEEKDAY_APPR_PROCESS_START', 'HOUR_APPR_PROCESS_START',\n",
      "       'REG_REGION_NOT_LIVE_REGION', 'REG_REGION_NOT_WORK_REGION',\n",
      "       'LIVE_REGION_NOT_WORK_REGION', 'REG_CITY_NOT_LIVE_CITY',\n",
      "       'REG_CITY_NOT_WORK_CITY', 'LIVE_CITY_NOT_WORK_CITY',\n",
      "       'ORGANIZATION_TYPE', 'EXT_SOURCE_1', 'EXT_SOURCE_2', 'EXT_SOURCE_3',\n",
      "       'APARTMENTS_AVG', 'BASEMENTAREA_AVG', 'YEARS_BEGINEXPLUATATION_AVG',\n",
      "       'YEARS_BUILD_AVG', 'COMMONAREA_AVG', 'ELEVATORS_AVG', 'ENTRANCES_AVG',\n",
      "       'FLOORSMAX_AVG', 'FLOORSMIN_AVG', 'LANDAREA_AVG',\n",
      "       'LIVINGAPARTMENTS_AVG', 'LIVINGAREA_AVG', 'NONLIVINGAPARTMENTS_AVG',\n",
      "       'NONLIVINGAREA_AVG', 'APARTMENTS_MODE', 'BASEMENTAREA_MODE',\n",
      "       'YEARS_BEGINEXPLUATATION_MODE', 'YEARS_BUILD_MODE', 'COMMONAREA_MODE',\n",
      "       'ELEVATORS_MODE', 'ENTRANCES_MODE', 'FLOORSMAX_MODE', 'FLOORSMIN_MODE',\n",
      "       'LANDAREA_MODE', 'LIVINGAPARTMENTS_MODE', 'LIVINGAREA_MODE',\n",
      "       'NONLIVINGAPARTMENTS_MODE', 'NONLIVINGAREA_MODE', 'APARTMENTS_MEDI',\n",
      "       'BASEMENTAREA_MEDI', 'YEARS_BEGINEXPLUATATION_MEDI', 'YEARS_BUILD_MEDI',\n",
      "       'COMMONAREA_MEDI', 'ELEVATORS_MEDI', 'ENTRANCES_MEDI', 'FLOORSMAX_MEDI',\n",
      "       'FLOORSMIN_MEDI', 'LANDAREA_MEDI', 'LIVINGAPARTMENTS_MEDI',\n",
      "       'LIVINGAREA_MEDI', 'NONLIVINGAPARTMENTS_MEDI', 'NONLIVINGAREA_MEDI',\n",
      "       'FONDKAPREMONT_MODE', 'HOUSETYPE_MODE', 'TOTALAREA_MODE',\n",
      "       'WALLSMATERIAL_MODE', 'EMERGENCYSTATE_MODE', 'OBS_30_CNT_SOCIAL_CIRCLE',\n",
      "       'DEF_30_CNT_SOCIAL_CIRCLE', 'OBS_60_CNT_SOCIAL_CIRCLE',\n",
      "       'DEF_60_CNT_SOCIAL_CIRCLE', 'DAYS_LAST_PHONE_CHANGE', 'FLAG_DOCUMENT_2',\n",
      "       'FLAG_DOCUMENT_3', 'FLAG_DOCUMENT_4', 'FLAG_DOCUMENT_5',\n",
      "       'FLAG_DOCUMENT_6', 'FLAG_DOCUMENT_7', 'FLAG_DOCUMENT_8',\n",
      "       'FLAG_DOCUMENT_9', 'FLAG_DOCUMENT_10', 'FLAG_DOCUMENT_11',\n",
      "       'FLAG_DOCUMENT_12', 'FLAG_DOCUMENT_13', 'FLAG_DOCUMENT_14',\n",
      "       'FLAG_DOCUMENT_15', 'FLAG_DOCUMENT_16', 'FLAG_DOCUMENT_17',\n",
      "       'FLAG_DOCUMENT_18', 'FLAG_DOCUMENT_19', 'FLAG_DOCUMENT_20',\n",
      "       'FLAG_DOCUMENT_21', 'AMT_REQ_CREDIT_BUREAU_HOUR',\n",
      "       'AMT_REQ_CREDIT_BUREAU_DAY', 'AMT_REQ_CREDIT_BUREAU_WEEK',\n",
      "       'AMT_REQ_CREDIT_BUREAU_MON', 'AMT_REQ_CREDIT_BUREAU_QRT',\n",
      "       'AMT_REQ_CREDIT_BUREAU_YEAR'],\n",
      "      dtype='object')\n"
     ]
    }
   ],
   "source": [
    "pd.options.display.max_seq_items = 200\n",
    "print(df.columns)"
   ]
  },
  {
   "cell_type": "markdown",
   "metadata": {},
   "source": [
    "#### 截取部分資料"
   ]
  },
  {
   "cell_type": "code",
   "execution_count": 38,
   "metadata": {
    "collapsed": false
   },
   "outputs": [
    {
     "data": {
      "text/plain": [
       "SK_ID_CURR                                             100006\n",
       "TARGET                                                      0\n",
       "NAME_CONTRACT_TYPE                                 Cash loans\n",
       "CODE_GENDER                                                 F\n",
       "FLAG_OWN_CAR                                                N\n",
       "FLAG_OWN_REALTY                                             Y\n",
       "CNT_CHILDREN                                                0\n",
       "AMT_INCOME_TOTAL                                       135000\n",
       "AMT_CREDIT                                             312682\n",
       "AMT_ANNUITY                                           29686.5\n",
       "AMT_GOODS_PRICE                                        297000\n",
       "NAME_TYPE_SUITE                                 Unaccompanied\n",
       "NAME_INCOME_TYPE                                      Working\n",
       "NAME_EDUCATION_TYPE             Secondary / secondary special\n",
       "NAME_FAMILY_STATUS                             Civil marriage\n",
       "NAME_HOUSING_TYPE                           House / apartment\n",
       "REGION_POPULATION_RELATIVE                           0.008019\n",
       "DAYS_BIRTH                                             -19005\n",
       "DAYS_EMPLOYED                                           -3039\n",
       "DAYS_REGISTRATION                                       -9833\n",
       "DAYS_ID_PUBLISH                                         -2437\n",
       "OWN_CAR_AGE                                               NaN\n",
       "FLAG_MOBIL                                                  1\n",
       "FLAG_EMP_PHONE                                              1\n",
       "FLAG_WORK_PHONE                                             0\n",
       "FLAG_CONT_MOBILE                                            1\n",
       "FLAG_PHONE                                                  0\n",
       "FLAG_EMAIL                                                  0\n",
       "OCCUPATION_TYPE                                      Laborers\n",
       "CNT_FAM_MEMBERS                                             2\n",
       "REGION_RATING_CLIENT                                        2\n",
       "REGION_RATING_CLIENT_W_CITY                                 2\n",
       "WEEKDAY_APPR_PROCESS_START                          WEDNESDAY\n",
       "HOUR_APPR_PROCESS_START                                    17\n",
       "REG_REGION_NOT_LIVE_REGION                                  0\n",
       "REG_REGION_NOT_WORK_REGION                                  0\n",
       "LIVE_REGION_NOT_WORK_REGION                                 0\n",
       "REG_CITY_NOT_LIVE_CITY                                      0\n",
       "REG_CITY_NOT_WORK_CITY                                      0\n",
       "LIVE_CITY_NOT_WORK_CITY                                     0\n",
       "ORGANIZATION_TYPE                      Business Entity Type 3\n",
       "EXT_SOURCE_1                                              NaN\n",
       "EXT_SOURCE_2                                         0.650442\n",
       "EXT_SOURCE_3                                              NaN\n",
       "APARTMENTS_AVG                                            NaN\n",
       "BASEMENTAREA_AVG                                          NaN\n",
       "YEARS_BEGINEXPLUATATION_AVG                               NaN\n",
       "YEARS_BUILD_AVG                                           NaN\n",
       "COMMONAREA_AVG                                            NaN\n",
       "ELEVATORS_AVG                                             NaN\n",
       "ENTRANCES_AVG                                             NaN\n",
       "FLOORSMAX_AVG                                             NaN\n",
       "FLOORSMIN_AVG                                             NaN\n",
       "LANDAREA_AVG                                              NaN\n",
       "LIVINGAPARTMENTS_AVG                                      NaN\n",
       "LIVINGAREA_AVG                                            NaN\n",
       "NONLIVINGAPARTMENTS_AVG                                   NaN\n",
       "NONLIVINGAREA_AVG                                         NaN\n",
       "APARTMENTS_MODE                                           NaN\n",
       "BASEMENTAREA_MODE                                         NaN\n",
       "YEARS_BEGINEXPLUATATION_MODE                              NaN\n",
       "YEARS_BUILD_MODE                                          NaN\n",
       "COMMONAREA_MODE                                           NaN\n",
       "ELEVATORS_MODE                                            NaN\n",
       "ENTRANCES_MODE                                            NaN\n",
       "FLOORSMAX_MODE                                            NaN\n",
       "FLOORSMIN_MODE                                            NaN\n",
       "LANDAREA_MODE                                             NaN\n",
       "LIVINGAPARTMENTS_MODE                                     NaN\n",
       "LIVINGAREA_MODE                                           NaN\n",
       "NONLIVINGAPARTMENTS_MODE                                  NaN\n",
       "NONLIVINGAREA_MODE                                        NaN\n",
       "APARTMENTS_MEDI                                           NaN\n",
       "BASEMENTAREA_MEDI                                         NaN\n",
       "YEARS_BEGINEXPLUATATION_MEDI                              NaN\n",
       "YEARS_BUILD_MEDI                                          NaN\n",
       "COMMONAREA_MEDI                                           NaN\n",
       "ELEVATORS_MEDI                                            NaN\n",
       "ENTRANCES_MEDI                                            NaN\n",
       "FLOORSMAX_MEDI                                            NaN\n",
       "FLOORSMIN_MEDI                                            NaN\n",
       "LANDAREA_MEDI                                             NaN\n",
       "LIVINGAPARTMENTS_MEDI                                     NaN\n",
       "LIVINGAREA_MEDI                                           NaN\n",
       "NONLIVINGAPARTMENTS_MEDI                                  NaN\n",
       "NONLIVINGAREA_MEDI                                        NaN\n",
       "FONDKAPREMONT_MODE                                        NaN\n",
       "HOUSETYPE_MODE                                            NaN\n",
       "TOTALAREA_MODE                                            NaN\n",
       "WALLSMATERIAL_MODE                                        NaN\n",
       "EMERGENCYSTATE_MODE                                       NaN\n",
       "OBS_30_CNT_SOCIAL_CIRCLE                                    2\n",
       "DEF_30_CNT_SOCIAL_CIRCLE                                    0\n",
       "OBS_60_CNT_SOCIAL_CIRCLE                                    2\n",
       "DEF_60_CNT_SOCIAL_CIRCLE                                    0\n",
       "DAYS_LAST_PHONE_CHANGE                                   -617\n",
       "FLAG_DOCUMENT_2                                             0\n",
       "FLAG_DOCUMENT_3                                             1\n",
       "FLAG_DOCUMENT_4                                             0\n",
       "FLAG_DOCUMENT_5                                             0\n",
       "FLAG_DOCUMENT_6                                             0\n",
       "FLAG_DOCUMENT_7                                             0\n",
       "FLAG_DOCUMENT_8                                             0\n",
       "FLAG_DOCUMENT_9                                             0\n",
       "FLAG_DOCUMENT_10                                            0\n",
       "FLAG_DOCUMENT_11                                            0\n",
       "FLAG_DOCUMENT_12                                            0\n",
       "FLAG_DOCUMENT_13                                            0\n",
       "FLAG_DOCUMENT_14                                            0\n",
       "FLAG_DOCUMENT_15                                            0\n",
       "FLAG_DOCUMENT_16                                            0\n",
       "FLAG_DOCUMENT_17                                            0\n",
       "FLAG_DOCUMENT_18                                            0\n",
       "FLAG_DOCUMENT_19                                            0\n",
       "FLAG_DOCUMENT_20                                            0\n",
       "FLAG_DOCUMENT_21                                            0\n",
       "AMT_REQ_CREDIT_BUREAU_HOUR                                NaN\n",
       "AMT_REQ_CREDIT_BUREAU_DAY                                 NaN\n",
       "AMT_REQ_CREDIT_BUREAU_WEEK                                NaN\n",
       "AMT_REQ_CREDIT_BUREAU_MON                                 NaN\n",
       "AMT_REQ_CREDIT_BUREAU_QRT                                 NaN\n",
       "AMT_REQ_CREDIT_BUREAU_YEAR                                NaN\n",
       "Name: 3, dtype: object"
      ]
     },
     "execution_count": 38,
     "metadata": {},
     "output_type": "execute_result"
    }
   ],
   "source": [
    "#印出第五列\n",
    "df.loc[3]"
   ]
  },
  {
   "cell_type": "markdown",
   "metadata": {},
   "source": [
    "#### 還有各種數之不盡的資料操作，重點還是取決於實務中遇到的狀況和你想問的問題，在馬拉松中我們也會陸續提到更多例子"
   ]
  },
  {
   "cell_type": "code",
   "execution_count": null,
   "metadata": {
    "collapsed": true
   },
   "outputs": [],
   "source": []
  }
 ],
 "metadata": {
  "kernelspec": {
   "display_name": "Python 3",
   "language": "python",
   "name": "python3"
  },
  "language_info": {
   "codemirror_mode": {
    "name": "ipython",
    "version": 3
   },
   "file_extension": ".py",
   "mimetype": "text/x-python",
   "name": "python",
   "nbconvert_exporter": "python",
   "pygments_lexer": "ipython3",
   "version": "3.6.0"
  }
 },
 "nbformat": 4,
 "nbformat_minor": 2
}