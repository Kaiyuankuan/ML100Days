{
 "cells": [
  {
   "cell_type": "markdown",
   "metadata": {},
   "source": [
    "## [作業重點]\n",
    "使用 Sklearn 中的線性迴歸模型，來訓練各種資料集，務必了解送進去模型訓練的**資料型態**為何，也請了解模型中各項參數的意義"
   ]
  },
  {
   "cell_type": "markdown",
   "metadata": {},
   "source": [
    "## 作業\n",
    "試著使用 sklearn datasets 的其他資料集 (wine, boston, ...)，來訓練自己的線性迴歸模型。"
   ]
  },
  {
   "cell_type": "markdown",
   "metadata": {},
   "source": [
    "### HINT: 注意 label 的型態，確定資料集的目標是分類還是回歸，在使用正確的模型訓練！"
   ]
  },
  {
   "cell_type": "code",
   "execution_count": 2,
   "metadata": {},
   "outputs": [],
   "source": [
    "import numpy as np\n",
    "import matplotlib.pyplot as plt\n",
    "from sklearn import datasets, linear_model\n",
    "from sklearn.model_selection import train_test_split\n",
    "from sklearn.metrics import mean_squared_error, r2_score, accuracy_score"
   ]
  },
  {
   "cell_type": "code",
   "execution_count": 16,
   "metadata": {
    "tags": []
   },
   "outputs": [
    {
     "output_type": "stream",
     "name": "stdout",
     "text": "Data shape:  (506, 1)\n"
    }
   ],
   "source": [
    "boston = datasets.load_boston()\n",
    "X = boston.data[:, np.newaxis, 2]\n",
    "print(\"Data shape: \", X.shape)"
   ]
  },
  {
   "cell_type": "code",
   "execution_count": 17,
   "metadata": {},
   "outputs": [],
   "source": [
    "x_train, x_test, y_train, y_test = train_test_split(X, boston.target, test_size=0.1, random_state=4)\n",
    "\n",
    "regr = linear_model.LinearRegression()\n",
    "regr.fit(x_train, y_train)\n",
    "y_pred = regr.predict(x_test)"
   ]
  },
  {
   "cell_type": "code",
   "execution_count": 18,
   "metadata": {
    "tags": []
   },
   "outputs": [
    {
     "output_type": "stream",
     "name": "stdout",
     "text": "Coefficient:  [-0.64959885]\n"
    }
   ],
   "source": [
    "print('Coefficient: ', regr.coef_)"
   ]
  },
  {
   "cell_type": "code",
   "execution_count": 19,
   "metadata": {
    "tags": []
   },
   "outputs": [
    {
     "output_type": "stream",
     "name": "stdout",
     "text": "Mean squared error: 63.06\n"
    }
   ],
   "source": [
    "print(\"Mean squared error: %.2f\" % mean_squared_error(y_test, y_pred))"
   ]
  },
  {
   "cell_type": "code",
   "execution_count": 20,
   "metadata": {},
   "outputs": [
    {
     "output_type": "display_data",
     "data": {
      "text/plain": "<Figure size 432x288 with 1 Axes>",
      "image/svg+xml": "<?xml version=\"1.0\" encoding=\"utf-8\" standalone=\"no\"?>\r\n<!DOCTYPE svg PUBLIC \"-//W3C//DTD SVG 1.1//EN\"\r\n  \"http://www.w3.org/Graphics/SVG/1.1/DTD/svg11.dtd\">\r\n<!-- Created with matplotlib (https://matplotlib.org/) -->\r\n<svg height=\"252.018125pt\" version=\"1.1\" viewBox=\"0 0 372.425 252.018125\" width=\"372.425pt\" xmlns=\"http://www.w3.org/2000/svg\" xmlns:xlink=\"http://www.w3.org/1999/xlink\">\r\n <defs>\r\n  <style type=\"text/css\">\r\n*{stroke-linecap:butt;stroke-linejoin:round;}\r\n  </style>\r\n </defs>\r\n <g id=\"figure_1\">\r\n  <g id=\"patch_1\">\r\n   <path d=\"M -0 252.018125 \r\nL 372.425 252.018125 \r\nL 372.425 0 \r\nL -0 0 \r\nz\r\n\" style=\"fill:none;\"/>\r\n  </g>\r\n  <g id=\"axes_1\">\r\n   <g id=\"patch_2\">\r\n    <path d=\"M 26.925 228.14 \r\nL 361.725 228.14 \r\nL 361.725 10.7 \r\nL 26.925 10.7 \r\nz\r\n\" style=\"fill:#ffffff;\"/>\r\n   </g>\r\n   <g id=\"PathCollection_1\">\r\n    <defs>\r\n     <path d=\"M 0 3 \r\nC 0.795609 3 1.55874 2.683901 2.12132 2.12132 \r\nC 2.683901 1.55874 3 0.795609 3 0 \r\nC 3 -0.795609 2.683901 -1.55874 2.12132 -2.12132 \r\nC 1.55874 -2.683901 0.795609 -3 0 -3 \r\nC -0.795609 -3 -1.55874 -2.683901 -2.12132 -2.12132 \r\nC -2.683901 -1.55874 -3 -0.795609 -3 0 \r\nC -3 0.795609 -2.683901 1.55874 -2.12132 2.12132 \r\nC -1.55874 2.683901 -0.795609 3 0 3 \r\nz\r\n\" id=\"mf944aaa01d\" style=\"stroke:#000000;\"/>\r\n    </defs>\r\n    <g clip-path=\"url(#pda8c9bd883)\">\r\n     <use style=\"stroke:#000000;\" x=\"131.720653\" xlink:href=\"#mf944aaa01d\" y=\"172.084395\"/>\r\n     <use style=\"stroke:#000000;\" x=\"100.931629\" xlink:href=\"#mf944aaa01d\" y=\"134.563839\"/>\r\n     <use style=\"stroke:#000000;\" x=\"109.987224\" xlink:href=\"#mf944aaa01d\" y=\"168.015901\"/>\r\n     <use style=\"stroke:#000000;\" x=\"164.562277\" xlink:href=\"#mf944aaa01d\" y=\"159.426858\"/>\r\n     <use style=\"stroke:#000000;\" x=\"111.556861\" xlink:href=\"#mf944aaa01d\" y=\"76.700813\"/>\r\n     <use style=\"stroke:#000000;\" x=\"167.218585\" xlink:href=\"#mf944aaa01d\" y=\"137.276168\"/>\r\n     <use style=\"stroke:#000000;\" x=\"51.427709\" xlink:href=\"#mf944aaa01d\" y=\"86.64602\"/>\r\n     <use style=\"stroke:#000000;\" x=\"255.23897\" xlink:href=\"#mf944aaa01d\" y=\"156.714529\"/>\r\n     <use style=\"stroke:#000000;\" x=\"255.23897\" xlink:href=\"#mf944aaa01d\" y=\"122.358357\"/>\r\n     <use style=\"stroke:#000000;\" x=\"273.108677\" xlink:href=\"#mf944aaa01d\" y=\"169.824121\"/>\r\n     <use style=\"stroke:#000000;\" x=\"82.337474\" xlink:href=\"#mf944aaa01d\" y=\"105.632326\"/>\r\n     <use style=\"stroke:#000000;\" x=\"120.733197\" xlink:href=\"#mf944aaa01d\" y=\"136.372058\"/>\r\n     <use style=\"stroke:#000000;\" x=\"156.23113\" xlink:href=\"#mf944aaa01d\" y=\"173.892615\"/>\r\n     <use style=\"stroke:#000000;\" x=\"273.108677\" xlink:href=\"#mf944aaa01d\" y=\"124.618631\"/>\r\n     <use style=\"stroke:#000000;\" x=\"156.23113\" xlink:href=\"#mf944aaa01d\" y=\"151.741925\"/>\r\n     <use style=\"stroke:#000000;\" x=\"255.23897\" xlink:href=\"#mf944aaa01d\" y=\"179.317273\"/>\r\n     <use style=\"stroke:#000000;\" x=\"131.720653\" xlink:href=\"#mf944aaa01d\" y=\"161.235078\"/>\r\n     <use style=\"stroke:#000000;\" x=\"255.23897\" xlink:href=\"#mf944aaa01d\" y=\"218.193994\"/>\r\n     <use style=\"stroke:#000000;\" x=\"255.23897\" xlink:href=\"#mf944aaa01d\" y=\"172.988505\"/>\r\n     <use style=\"stroke:#000000;\" x=\"134.980667\" xlink:href=\"#mf944aaa01d\" y=\"183.837822\"/>\r\n     <use style=\"stroke:#000000;\" x=\"255.23897\" xlink:href=\"#mf944aaa01d\" y=\"206.892622\"/>\r\n     <use style=\"stroke:#000000;\" x=\"273.108677\" xlink:href=\"#mf944aaa01d\" y=\"158.974803\"/>\r\n     <use style=\"stroke:#000000;\" x=\"346.398627\" xlink:href=\"#mf944aaa01d\" y=\"161.687132\"/>\r\n     <use style=\"stroke:#000000;\" x=\"140.0518\" xlink:href=\"#mf944aaa01d\" y=\"157.166584\"/>\r\n     <use style=\"stroke:#000000;\" x=\"89.702691\" xlink:href=\"#mf944aaa01d\" y=\"167.563846\"/>\r\n     <use style=\"stroke:#000000;\" x=\"140.0518\" xlink:href=\"#mf944aaa01d\" y=\"159.426858\"/>\r\n     <use style=\"stroke:#000000;\" x=\"164.562277\" xlink:href=\"#mf944aaa01d\" y=\"156.262474\"/>\r\n     <use style=\"stroke:#000000;\" x=\"300.99991\" xlink:href=\"#mf944aaa01d\" y=\"182.029603\"/>\r\n     <use style=\"stroke:#000000;\" x=\"255.23897\" xlink:href=\"#mf944aaa01d\" y=\"173.892615\"/>\r\n     <use style=\"stroke:#000000;\" x=\"140.0518\" xlink:href=\"#mf944aaa01d\" y=\"158.522748\"/>\r\n     <use style=\"stroke:#000000;\" x=\"255.23897\" xlink:href=\"#mf944aaa01d\" y=\"196.947414\"/>\r\n     <use style=\"stroke:#000000;\" x=\"80.647096\" xlink:href=\"#mf944aaa01d\" y=\"147.673431\"/>\r\n     <use style=\"stroke:#000000;\" x=\"84.631558\" xlink:href=\"#mf944aaa01d\" y=\"106.536436\"/>\r\n     <use style=\"stroke:#000000;\" x=\"346.398627\" xlink:href=\"#mf944aaa01d\" y=\"147.221376\"/>\r\n     <use style=\"stroke:#000000;\" x=\"255.23897\" xlink:href=\"#mf944aaa01d\" y=\"178.413163\"/>\r\n     <use style=\"stroke:#000000;\" x=\"255.23897\" xlink:href=\"#mf944aaa01d\" y=\"186.550152\"/>\r\n     <use style=\"stroke:#000000;\" x=\"77.870047\" xlink:href=\"#mf944aaa01d\" y=\"116.933698\"/>\r\n     <use style=\"stroke:#000000;\" x=\"111.556861\" xlink:href=\"#mf944aaa01d\" y=\"35.563817\"/>\r\n     <use style=\"stroke:#000000;\" x=\"98.637545\" xlink:href=\"#mf944aaa01d\" y=\"146.317266\"/>\r\n     <use style=\"stroke:#000000;\" x=\"167.218585\" xlink:href=\"#mf944aaa01d\" y=\"143.604937\"/>\r\n     <use style=\"stroke:#000000;\" x=\"61.207752\" xlink:href=\"#mf944aaa01d\" y=\"55.454233\"/>\r\n     <use style=\"stroke:#000000;\" x=\"273.108677\" xlink:href=\"#mf944aaa01d\" y=\"59.974782\"/>\r\n     <use style=\"stroke:#000000;\" x=\"255.23897\" xlink:href=\"#mf944aaa01d\" y=\"171.180285\"/>\r\n     <use style=\"stroke:#000000;\" x=\"72.074466\" xlink:href=\"#mf944aaa01d\" y=\"106.084381\"/>\r\n     <use style=\"stroke:#000000;\" x=\"111.556861\" xlink:href=\"#mf944aaa01d\" y=\"125.974796\"/>\r\n     <use style=\"stroke:#000000;\" x=\"77.387082\" xlink:href=\"#mf944aaa01d\" y=\"158.974803\"/>\r\n     <use style=\"stroke:#000000;\" x=\"42.251373\" xlink:href=\"#mf944aaa01d\" y=\"20.646006\"/>\r\n     <use style=\"stroke:#000000;\" x=\"120.129491\" xlink:href=\"#mf944aaa01d\" y=\"171.63234\"/>\r\n     <use style=\"stroke:#000000;\" x=\"255.23897\" xlink:href=\"#mf944aaa01d\" y=\"158.522748\"/>\r\n     <use style=\"stroke:#000000;\" x=\"164.562277\" xlink:href=\"#mf944aaa01d\" y=\"136.372058\"/>\r\n     <use style=\"stroke:#000000;\" x=\"96.464202\" xlink:href=\"#mf944aaa01d\" y=\"117.837808\"/>\r\n    </g>\r\n   </g>\r\n   <g id=\"matplotlib.axis_1\">\r\n    <g id=\"xtick_1\">\r\n     <g id=\"line2d_1\">\r\n      <defs>\r\n       <path d=\"M 0 0 \r\nL 0 3.5 \r\n\" id=\"m96b34b3a59\" style=\"stroke:#000000;stroke-width:0.8;\"/>\r\n      </defs>\r\n      <g>\r\n       <use style=\"stroke:#000000;stroke-width:0.8;\" x=\"36.697275\" xlink:href=\"#m96b34b3a59\" y=\"228.14\"/>\r\n      </g>\r\n     </g>\r\n     <g id=\"text_1\">\r\n      <!-- 0 -->\r\n      <defs>\r\n       <path d=\"M 31.78125 66.40625 \r\nQ 24.171875 66.40625 20.328125 58.90625 \r\nQ 16.5 51.421875 16.5 36.375 \r\nQ 16.5 21.390625 20.328125 13.890625 \r\nQ 24.171875 6.390625 31.78125 6.390625 \r\nQ 39.453125 6.390625 43.28125 13.890625 \r\nQ 47.125 21.390625 47.125 36.375 \r\nQ 47.125 51.421875 43.28125 58.90625 \r\nQ 39.453125 66.40625 31.78125 66.40625 \r\nz\r\nM 31.78125 74.21875 \r\nQ 44.046875 74.21875 50.515625 64.515625 \r\nQ 56.984375 54.828125 56.984375 36.375 \r\nQ 56.984375 17.96875 50.515625 8.265625 \r\nQ 44.046875 -1.421875 31.78125 -1.421875 \r\nQ 19.53125 -1.421875 13.0625 8.265625 \r\nQ 6.59375 17.96875 6.59375 36.375 \r\nQ 6.59375 54.828125 13.0625 64.515625 \r\nQ 19.53125 74.21875 31.78125 74.21875 \r\nz\r\n\" id=\"DejaVuSans-48\"/>\r\n      </defs>\r\n      <g transform=\"translate(33.516025 242.738437)scale(0.1 -0.1)\">\r\n       <use xlink:href=\"#DejaVuSans-48\"/>\r\n      </g>\r\n     </g>\r\n    </g>\r\n    <g id=\"xtick_2\">\r\n     <g id=\"line2d_2\">\r\n      <g>\r\n       <use style=\"stroke:#000000;stroke-width:0.8;\" x=\"97.067909\" xlink:href=\"#m96b34b3a59\" y=\"228.14\"/>\r\n      </g>\r\n     </g>\r\n     <g id=\"text_2\">\r\n      <!-- 5 -->\r\n      <defs>\r\n       <path d=\"M 10.796875 72.90625 \r\nL 49.515625 72.90625 \r\nL 49.515625 64.59375 \r\nL 19.828125 64.59375 \r\nL 19.828125 46.734375 \r\nQ 21.96875 47.46875 24.109375 47.828125 \r\nQ 26.265625 48.1875 28.421875 48.1875 \r\nQ 40.625 48.1875 47.75 41.5 \r\nQ 54.890625 34.8125 54.890625 23.390625 \r\nQ 54.890625 11.625 47.5625 5.09375 \r\nQ 40.234375 -1.421875 26.90625 -1.421875 \r\nQ 22.3125 -1.421875 17.546875 -0.640625 \r\nQ 12.796875 0.140625 7.71875 1.703125 \r\nL 7.71875 11.625 \r\nQ 12.109375 9.234375 16.796875 8.0625 \r\nQ 21.484375 6.890625 26.703125 6.890625 \r\nQ 35.15625 6.890625 40.078125 11.328125 \r\nQ 45.015625 15.765625 45.015625 23.390625 \r\nQ 45.015625 31 40.078125 35.4375 \r\nQ 35.15625 39.890625 26.703125 39.890625 \r\nQ 22.75 39.890625 18.8125 39.015625 \r\nQ 14.890625 38.140625 10.796875 36.28125 \r\nz\r\n\" id=\"DejaVuSans-53\"/>\r\n      </defs>\r\n      <g transform=\"translate(93.886659 242.738437)scale(0.1 -0.1)\">\r\n       <use xlink:href=\"#DejaVuSans-53\"/>\r\n      </g>\r\n     </g>\r\n    </g>\r\n    <g id=\"xtick_3\">\r\n     <g id=\"line2d_3\">\r\n      <g>\r\n       <use style=\"stroke:#000000;stroke-width:0.8;\" x=\"157.438543\" xlink:href=\"#m96b34b3a59\" y=\"228.14\"/>\r\n      </g>\r\n     </g>\r\n     <g id=\"text_3\">\r\n      <!-- 10 -->\r\n      <defs>\r\n       <path d=\"M 12.40625 8.296875 \r\nL 28.515625 8.296875 \r\nL 28.515625 63.921875 \r\nL 10.984375 60.40625 \r\nL 10.984375 69.390625 \r\nL 28.421875 72.90625 \r\nL 38.28125 72.90625 \r\nL 38.28125 8.296875 \r\nL 54.390625 8.296875 \r\nL 54.390625 0 \r\nL 12.40625 0 \r\nz\r\n\" id=\"DejaVuSans-49\"/>\r\n      </defs>\r\n      <g transform=\"translate(151.076043 242.738437)scale(0.1 -0.1)\">\r\n       <use xlink:href=\"#DejaVuSans-49\"/>\r\n       <use x=\"63.623047\" xlink:href=\"#DejaVuSans-48\"/>\r\n      </g>\r\n     </g>\r\n    </g>\r\n    <g id=\"xtick_4\">\r\n     <g id=\"line2d_4\">\r\n      <g>\r\n       <use style=\"stroke:#000000;stroke-width:0.8;\" x=\"217.809177\" xlink:href=\"#m96b34b3a59\" y=\"228.14\"/>\r\n      </g>\r\n     </g>\r\n     <g id=\"text_4\">\r\n      <!-- 15 -->\r\n      <g transform=\"translate(211.446677 242.738437)scale(0.1 -0.1)\">\r\n       <use xlink:href=\"#DejaVuSans-49\"/>\r\n       <use x=\"63.623047\" xlink:href=\"#DejaVuSans-53\"/>\r\n      </g>\r\n     </g>\r\n    </g>\r\n    <g id=\"xtick_5\">\r\n     <g id=\"line2d_5\">\r\n      <g>\r\n       <use style=\"stroke:#000000;stroke-width:0.8;\" x=\"278.179811\" xlink:href=\"#m96b34b3a59\" y=\"228.14\"/>\r\n      </g>\r\n     </g>\r\n     <g id=\"text_5\">\r\n      <!-- 20 -->\r\n      <defs>\r\n       <path d=\"M 19.1875 8.296875 \r\nL 53.609375 8.296875 \r\nL 53.609375 0 \r\nL 7.328125 0 \r\nL 7.328125 8.296875 \r\nQ 12.9375 14.109375 22.625 23.890625 \r\nQ 32.328125 33.6875 34.8125 36.53125 \r\nQ 39.546875 41.84375 41.421875 45.53125 \r\nQ 43.3125 49.21875 43.3125 52.78125 \r\nQ 43.3125 58.59375 39.234375 62.25 \r\nQ 35.15625 65.921875 28.609375 65.921875 \r\nQ 23.96875 65.921875 18.8125 64.3125 \r\nQ 13.671875 62.703125 7.8125 59.421875 \r\nL 7.8125 69.390625 \r\nQ 13.765625 71.78125 18.9375 73 \r\nQ 24.125 74.21875 28.421875 74.21875 \r\nQ 39.75 74.21875 46.484375 68.546875 \r\nQ 53.21875 62.890625 53.21875 53.421875 \r\nQ 53.21875 48.921875 51.53125 44.890625 \r\nQ 49.859375 40.875 45.40625 35.40625 \r\nQ 44.1875 33.984375 37.640625 27.21875 \r\nQ 31.109375 20.453125 19.1875 8.296875 \r\nz\r\n\" id=\"DejaVuSans-50\"/>\r\n      </defs>\r\n      <g transform=\"translate(271.817311 242.738437)scale(0.1 -0.1)\">\r\n       <use xlink:href=\"#DejaVuSans-50\"/>\r\n       <use x=\"63.623047\" xlink:href=\"#DejaVuSans-48\"/>\r\n      </g>\r\n     </g>\r\n    </g>\r\n    <g id=\"xtick_6\">\r\n     <g id=\"line2d_6\">\r\n      <g>\r\n       <use style=\"stroke:#000000;stroke-width:0.8;\" x=\"338.550445\" xlink:href=\"#m96b34b3a59\" y=\"228.14\"/>\r\n      </g>\r\n     </g>\r\n     <g id=\"text_6\">\r\n      <!-- 25 -->\r\n      <g transform=\"translate(332.187945 242.738437)scale(0.1 -0.1)\">\r\n       <use xlink:href=\"#DejaVuSans-50\"/>\r\n       <use x=\"63.623047\" xlink:href=\"#DejaVuSans-53\"/>\r\n      </g>\r\n     </g>\r\n    </g>\r\n   </g>\r\n   <g id=\"matplotlib.axis_2\">\r\n    <g id=\"ytick_1\">\r\n     <g id=\"line2d_7\">\r\n      <defs>\r\n       <path d=\"M 0 0 \r\nL -3.5 0 \r\n\" id=\"me6d4a76fb4\" style=\"stroke:#000000;stroke-width:0.8;\"/>\r\n      </defs>\r\n      <g>\r\n       <use style=\"stroke:#000000;stroke-width:0.8;\" x=\"26.925\" xlink:href=\"#me6d4a76fb4\" y=\"201.467963\"/>\r\n      </g>\r\n     </g>\r\n     <g id=\"text_7\">\r\n      <!-- 10 -->\r\n      <g transform=\"translate(7.2 205.267182)scale(0.1 -0.1)\">\r\n       <use xlink:href=\"#DejaVuSans-49\"/>\r\n       <use x=\"63.623047\" xlink:href=\"#DejaVuSans-48\"/>\r\n      </g>\r\n     </g>\r\n    </g>\r\n    <g id=\"ytick_2\">\r\n     <g id=\"line2d_8\">\r\n      <g>\r\n       <use style=\"stroke:#000000;stroke-width:0.8;\" x=\"26.925\" xlink:href=\"#me6d4a76fb4\" y=\"156.262474\"/>\r\n      </g>\r\n     </g>\r\n     <g id=\"text_8\">\r\n      <!-- 20 -->\r\n      <g transform=\"translate(7.2 160.061692)scale(0.1 -0.1)\">\r\n       <use xlink:href=\"#DejaVuSans-50\"/>\r\n       <use x=\"63.623047\" xlink:href=\"#DejaVuSans-48\"/>\r\n      </g>\r\n     </g>\r\n    </g>\r\n    <g id=\"ytick_3\">\r\n     <g id=\"line2d_9\">\r\n      <g>\r\n       <use style=\"stroke:#000000;stroke-width:0.8;\" x=\"26.925\" xlink:href=\"#me6d4a76fb4\" y=\"111.056984\"/>\r\n      </g>\r\n     </g>\r\n     <g id=\"text_9\">\r\n      <!-- 30 -->\r\n      <defs>\r\n       <path d=\"M 40.578125 39.3125 \r\nQ 47.65625 37.796875 51.625 33 \r\nQ 55.609375 28.21875 55.609375 21.1875 \r\nQ 55.609375 10.40625 48.1875 4.484375 \r\nQ 40.765625 -1.421875 27.09375 -1.421875 \r\nQ 22.515625 -1.421875 17.65625 -0.515625 \r\nQ 12.796875 0.390625 7.625 2.203125 \r\nL 7.625 11.71875 \r\nQ 11.71875 9.328125 16.59375 8.109375 \r\nQ 21.484375 6.890625 26.8125 6.890625 \r\nQ 36.078125 6.890625 40.9375 10.546875 \r\nQ 45.796875 14.203125 45.796875 21.1875 \r\nQ 45.796875 27.640625 41.28125 31.265625 \r\nQ 36.765625 34.90625 28.71875 34.90625 \r\nL 20.21875 34.90625 \r\nL 20.21875 43.015625 \r\nL 29.109375 43.015625 \r\nQ 36.375 43.015625 40.234375 45.921875 \r\nQ 44.09375 48.828125 44.09375 54.296875 \r\nQ 44.09375 59.90625 40.109375 62.90625 \r\nQ 36.140625 65.921875 28.71875 65.921875 \r\nQ 24.65625 65.921875 20.015625 65.03125 \r\nQ 15.375 64.15625 9.8125 62.3125 \r\nL 9.8125 71.09375 \r\nQ 15.4375 72.65625 20.34375 73.4375 \r\nQ 25.25 74.21875 29.59375 74.21875 \r\nQ 40.828125 74.21875 47.359375 69.109375 \r\nQ 53.90625 64.015625 53.90625 55.328125 \r\nQ 53.90625 49.265625 50.4375 45.09375 \r\nQ 46.96875 40.921875 40.578125 39.3125 \r\nz\r\n\" id=\"DejaVuSans-51\"/>\r\n      </defs>\r\n      <g transform=\"translate(7.2 114.856203)scale(0.1 -0.1)\">\r\n       <use xlink:href=\"#DejaVuSans-51\"/>\r\n       <use x=\"63.623047\" xlink:href=\"#DejaVuSans-48\"/>\r\n      </g>\r\n     </g>\r\n    </g>\r\n    <g id=\"ytick_4\">\r\n     <g id=\"line2d_10\">\r\n      <g>\r\n       <use style=\"stroke:#000000;stroke-width:0.8;\" x=\"26.925\" xlink:href=\"#me6d4a76fb4\" y=\"65.851495\"/>\r\n      </g>\r\n     </g>\r\n     <g id=\"text_10\">\r\n      <!-- 40 -->\r\n      <defs>\r\n       <path d=\"M 37.796875 64.3125 \r\nL 12.890625 25.390625 \r\nL 37.796875 25.390625 \r\nz\r\nM 35.203125 72.90625 \r\nL 47.609375 72.90625 \r\nL 47.609375 25.390625 \r\nL 58.015625 25.390625 \r\nL 58.015625 17.1875 \r\nL 47.609375 17.1875 \r\nL 47.609375 0 \r\nL 37.796875 0 \r\nL 37.796875 17.1875 \r\nL 4.890625 17.1875 \r\nL 4.890625 26.703125 \r\nz\r\n\" id=\"DejaVuSans-52\"/>\r\n      </defs>\r\n      <g transform=\"translate(7.2 69.650714)scale(0.1 -0.1)\">\r\n       <use xlink:href=\"#DejaVuSans-52\"/>\r\n       <use x=\"63.623047\" xlink:href=\"#DejaVuSans-48\"/>\r\n      </g>\r\n     </g>\r\n    </g>\r\n    <g id=\"ytick_5\">\r\n     <g id=\"line2d_11\">\r\n      <g>\r\n       <use style=\"stroke:#000000;stroke-width:0.8;\" x=\"26.925\" xlink:href=\"#me6d4a76fb4\" y=\"20.646006\"/>\r\n      </g>\r\n     </g>\r\n     <g id=\"text_11\">\r\n      <!-- 50 -->\r\n      <g transform=\"translate(7.2 24.445225)scale(0.1 -0.1)\">\r\n       <use xlink:href=\"#DejaVuSans-53\"/>\r\n       <use x=\"63.623047\" xlink:href=\"#DejaVuSans-48\"/>\r\n      </g>\r\n     </g>\r\n    </g>\r\n   </g>\r\n   <g id=\"line2d_12\">\r\n    <path clip-path=\"url(#pda8c9bd883)\" d=\"M 131.720653 135.313451 \r\nL 100.931629 127.825266 \r\nL 109.987224 130.027673 \r\nL 164.562277 143.300849 \r\nL 111.556861 130.409424 \r\nL 167.218585 143.946889 \r\nL 51.427709 115.785438 \r\nL 255.23897 165.35429 \r\nL 255.23897 165.35429 \r\nL 273.108677 169.700374 \r\nL 82.337474 123.302989 \r\nL 120.733197 132.641197 \r\nL 156.23113 141.274634 \r\nL 273.108677 169.700374 \r\nL 156.23113 141.274634 \r\nL 255.23897 165.35429 \r\nL 131.720653 135.313451 \r\nL 255.23897 165.35429 \r\nL 255.23897 165.35429 \r\nL 134.980667 136.106318 \r\nL 255.23897 165.35429 \r\nL 273.108677 169.700374 \r\nL 346.398627 187.525193 \r\nL 140.0518 137.339666 \r\nL 89.702691 125.09428 \r\nL 140.0518 137.339666 \r\nL 164.562277 143.300849 \r\nL 300.99991 176.48379 \r\nL 255.23897 165.35429 \r\nL 140.0518 137.339666 \r\nL 255.23897 165.35429 \r\nL 80.647096 122.891873 \r\nL 84.631558 123.860932 \r\nL 346.398627 187.525193 \r\nL 255.23897 165.35429 \r\nL 255.23897 165.35429 \r\nL 77.870047 122.216468 \r\nL 111.556861 130.409424 \r\nL 98.637545 127.267322 \r\nL 167.218585 143.946889 \r\nL 61.207752 118.164038 \r\nL 273.108677 169.700374 \r\nL 255.23897 165.35429 \r\nL 72.074466 120.806927 \r\nL 111.556861 130.409424 \r\nL 77.387082 122.099006 \r\nL 42.251373 113.553665 \r\nL 120.129491 132.49437 \r\nL 255.23897 165.35429 \r\nL 164.562277 143.300849 \r\nL 96.464202 126.738745 \r\n\" style=\"fill:none;stroke:#0000ff;stroke-linecap:square;stroke-width:3;\"/>\r\n   </g>\r\n   <g id=\"patch_3\">\r\n    <path d=\"M 26.925 228.14 \r\nL 26.925 10.7 \r\n\" style=\"fill:none;stroke:#000000;stroke-linecap:square;stroke-linejoin:miter;stroke-width:0.8;\"/>\r\n   </g>\r\n   <g id=\"patch_4\">\r\n    <path d=\"M 361.725 228.14 \r\nL 361.725 10.7 \r\n\" style=\"fill:none;stroke:#000000;stroke-linecap:square;stroke-linejoin:miter;stroke-width:0.8;\"/>\r\n   </g>\r\n   <g id=\"patch_5\">\r\n    <path d=\"M 26.925 228.14 \r\nL 361.725 228.14 \r\n\" style=\"fill:none;stroke:#000000;stroke-linecap:square;stroke-linejoin:miter;stroke-width:0.8;\"/>\r\n   </g>\r\n   <g id=\"patch_6\">\r\n    <path d=\"M 26.925 10.7 \r\nL 361.725 10.7 \r\n\" style=\"fill:none;stroke:#000000;stroke-linecap:square;stroke-linejoin:miter;stroke-width:0.8;\"/>\r\n   </g>\r\n  </g>\r\n </g>\r\n <defs>\r\n  <clipPath id=\"pda8c9bd883\">\r\n   <rect height=\"217.44\" width=\"334.8\" x=\"26.925\" y=\"10.7\"/>\r\n  </clipPath>\r\n </defs>\r\n</svg>\r\n",
      "image/png": "[encoded data removed]"
     },
     "metadata": {
      "needs_background": "light"
     }
    }
   ],
   "source": [
    "plt.scatter(x_test, y_test, color='black')\n",
    "plt.plot(x_test, y_pred, color='blue', linewidth=3)\n",
    "plt.show()"
   ]
  },
  {
   "cell_type": "code",
   "execution_count": 22,
   "metadata": {},
   "outputs": [],
   "source": [
    "wine = datasets.load_wine()\n",
    "x_train, x_test, y_train, y_test = train_test_split(wine.data, wine.target, test_size=0.1, random_state=4)"
   ]
  },
  {
   "cell_type": "code",
   "execution_count": 24,
   "metadata": {},
   "outputs": [],
   "source": [
    "logreg = linear_model.LogisticRegression()\n",
    "logreg.fit(x_train, y_train)\n",
    "y_pred = logreg.predict(x_test)"
   ]
  },
  {
   "cell_type": "code",
   "execution_count": 25,
   "metadata": {
    "tags": []
   },
   "outputs": [
    {
     "output_type": "stream",
     "name": "stdout",
     "text": "Accuracy:  0.9444444444444444\n"
    }
   ],
   "source": [
    "acc = accuracy_score(y_test, y_pred)\n",
    "print(\"Accuracy: \", acc)"
   ]
  },
  {
   "cell_type": "code",
   "execution_count": null,
   "metadata": {},
   "outputs": [],
   "source": []
  }
 ],
 "metadata": {
  "kernelspec": {
   "display_name": "Python 3",
   "language": "python",
   "name": "python3"
  },
  "language_info": {
   "codemirror_mode": {
    "name": "ipython",
    "version": 3
   },
   "file_extension": ".py",
   "mimetype": "text/x-python",
   "name": "python",
   "nbconvert_exporter": "python",
   "pygments_lexer": "ipython3",
   "version": "3.8.2-final"
  }
 },
 "nbformat": 4,
 "nbformat_minor": 2
}